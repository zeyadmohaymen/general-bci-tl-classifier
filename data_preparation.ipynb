{
 "cells": [
  {
   "cell_type": "markdown",
   "metadata": {},
   "source": [
    "## PhysionetMI"
   ]
  },
  {
   "cell_type": "markdown",
   "metadata": {},
   "source": [
    "Load data of all 109 subjects.\n",
    "\n",
    "Only the runs of \"hands vs feet\" motor imagery are loaded [runs 6, 10, 14]. Data is extracted as mne.io.Raw objects, each object representing the concatenated runs of a single subject."
   ]
  },
  {
   "cell_type": "code",
   "execution_count": null,
   "metadata": {},
   "outputs": [],
   "source": [
    "from mne.datasets import eegbci\n",
    "from mne.io import concatenate_raws, read_raw_edf\n",
    "from mne.channels import make_standard_montage\n",
    "from mne.datasets import eegbci\n",
    "from mne.io import concatenate_raws, read_raw_edf\n",
    "from mne.channels import make_standard_montage\n",
    "from sklearn.pipeline import Pipeline\n",
    "from scripts.raw_preprocessing import FilterRaw, RemoveArtifacts, SelectChannels, Epochify\n",
    "\n",
    "runs = [6, 10, 14]  # motor imagery: hands vs feet\n",
    "montage = make_standard_montage(\"standard_1005\")\n",
    "\n",
    "channels = [\"C3\", \"C4\", \"P3\", \"P4\", \"T7\", \"T8\", \"P7\", \"P8\"] # These positions of the 10-10 system are equivalent to our positions in the 10-20 system\n",
    "event_ids = ['rest', 'hands', 'feet']\n",
    "\n",
    "physionet_preprocessing_pipeline = Pipeline([\n",
    "    (\"filter\", FilterRaw()),\n",
    "    (\"remove_artifacts\", RemoveArtifacts()),\n",
    "    # (\"select_channels\", SelectChannels(channels=channels)),\n",
    "    (\"epochify\", Epochify(event_ids=event_ids, channels=channels)),\n",
    "])\n",
    "\n",
    "physionet_subjects = []\n",
    "\n",
    "for subject in range(1, 110):\n",
    "    f_names = eegbci.load_data(subject, runs=runs, path=\"datasets\", update_path=True)\n",
    "    raw = concatenate_raws([read_raw_edf(f_name, preload=True) for f_name in f_names])\n",
    "\n",
    "    if raw.info[\"sfreq\"] == 160:\n",
    "        eegbci.standardize(raw)  # set channel names\n",
    "        raw.set_montage(montage)\n",
    "        raw.annotations.rename(dict(T0=\"rest\", T1=\"hands\", T2=\"feet\"))\n",
    "        raw.set_eeg_reference(projection=True)\n",
    "\n",
    "        subject_epochs = physionet_preprocessing_pipeline.fit_transform(raw)\n",
    "\n",
    "        physionet_subjects.append(subject_epochs)\n",
    "\n",
    "# Save the preprocessed data in /data/physionet.pkl\n",
    "import pickle\n",
    "with open(\"pickled_data/physionet.pkl\", \"wb\") as f:\n",
    "    pickle.dump(physionet_subjects, f)"
   ]
  },
  {
   "cell_type": "markdown",
   "metadata": {},
   "source": [
    "## Schirrmeister 2017"
   ]
  },
  {
   "cell_type": "code",
   "execution_count": null,
   "metadata": {},
   "outputs": [],
   "source": [
    "from moabb.datasets import Schirrmeister2017\n",
    "\n",
    "dataset = Schirrmeister2017()\n",
    "sessions = dataset.get_data()"
   ]
  }
 ],
 "metadata": {
  "kernelspec": {
   "display_name": "venv",
   "language": "python",
   "name": "python3"
  },
  "language_info": {
   "codemirror_mode": {
    "name": "ipython",
    "version": 3
   },
   "file_extension": ".py",
   "mimetype": "text/x-python",
   "name": "python",
   "nbconvert_exporter": "python",
   "pygments_lexer": "ipython3",
   "version": "3.10.6"
  }
 },
 "nbformat": 4,
 "nbformat_minor": 2
}
