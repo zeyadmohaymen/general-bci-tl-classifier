{
 "cells": [
  {
   "cell_type": "code",
   "execution_count": 1,
   "metadata": {},
   "outputs": [],
   "source": [
    "import mne\n",
    "from mne import Epochs, pick_types, pick_channels\n",
    "from mne.channels import make_standard_montage\n",
    "from mne.datasets import eegbci\n",
    "from mne.decoding import CSP, PSDEstimator\n",
    "from mne.io import concatenate_raws, read_raw_edf"
   ]
  },
  {
   "cell_type": "code",
   "execution_count": null,
   "metadata": {},
   "outputs": [],
   "source": [
    "runs = [6, 10, 14]  # motor imagery: hands vs feet\n",
    "\n",
    "source_fnames = eegbci.load_data(1, runs)\n",
    "source = concatenate_raws([read_raw_edf(f, preload=True) for f in source_fnames])\n",
    "eegbci.standardize(source)  # set channel names\n",
    "montage = make_standard_montage(\"standard_1005\")\n",
    "source.set_montage(montage)\n",
    "source.annotations.rename(dict(T0=\"rest\", T1=\"hands\", T2=\"feet\"))\n",
    "source.set_eeg_reference(projection=True)"
   ]
  }
 ],
 "metadata": {
  "kernelspec": {
   "display_name": "venv",
   "language": "python",
   "name": "python3"
  },
  "language_info": {
   "codemirror_mode": {
    "name": "ipython",
    "version": 3
   },
   "file_extension": ".py",
   "mimetype": "text/x-python",
   "name": "python",
   "nbconvert_exporter": "python",
   "pygments_lexer": "ipython3",
   "version": "3.10.6"
  }
 },
 "nbformat": 4,
 "nbformat_minor": 2
}
