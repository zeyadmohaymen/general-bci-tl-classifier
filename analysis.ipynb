{
 "cells": [
  {
   "cell_type": "markdown",
   "metadata": {},
   "source": [
    "#### Load same-subject, cross-subject, and cross-dataset results"
   ]
  },
  {
   "cell_type": "code",
   "execution_count": 3,
   "metadata": {},
   "outputs": [],
   "source": [
    "import pickle\n",
    "\n",
    "with open('results/same_subject/results.pkl', 'rb') as f:\n",
    "    same_subject_results = pickle.load(f)\n",
    "\n",
    "with open('results/cross_subject/results.pkl', 'rb') as f:\n",
    "    cross_subject_results = pickle.load(f)\n",
    "\n",
    "with open('results/cross_dataset/results.pkl', 'rb') as f:\n",
    "    cross_dataset_results = pickle.load(f)"
   ]
  },
  {
   "cell_type": "markdown",
   "metadata": {},
   "source": [
    "#### Initialize dictionary with all the different parameter combinations"
   ]
  },
  {
   "cell_type": "code",
   "execution_count": 39,
   "metadata": {},
   "outputs": [],
   "source": [
    "import numpy as np\n",
    "\n",
    "grid_res = dict(physionet={}, schirrmeister={}, weibo={})\n",
    "\n",
    "df = same_subject_results['physionet']['P001']\n",
    "for dataset in grid_res.keys():\n",
    "    for i in range(len(df)):\n",
    "        cc = df.iloc[i]['Counter class']\n",
    "        ed = df.iloc[i]['Epoch duration (s)']\n",
    "        seg = df.iloc[i]['Segmentation']\n",
    "        ws = df.iloc[i]['Window size (s)']\n",
    "        ol = df.iloc[i]['Overlap (%)']\n",
    "        # svm = df.iloc[i]['SVM (kernel_C)']\n",
    "        svm = df.iloc[i]['SVM (kernel_C_gamma)']\n",
    "        key = f\"{cc}_{ed}_{seg}_{ws}_{ol}_{svm}\"\n",
    "        grid_res[dataset][key] = dict(ss_ranks=np.array([]), ss_accs=np.array([]), cs_ranks=np.array([]), cs_accs=np.array([]), cd_ranks=np.array([]), cd_accs=np.array([]))"
   ]
  },
  {
   "cell_type": "markdown",
   "metadata": {},
   "source": [
    "#### Extract ranks and accuracies of each parameter , for each dataset"
   ]
  },
  {
   "cell_type": "code",
   "execution_count": 42,
   "metadata": {},
   "outputs": [],
   "source": [
    "for ix, dataset in enumerate(same_subject_results):\n",
    "    for subject in same_subject_results[dataset]:\n",
    "        df = same_subject_results[dataset][subject]\n",
    "        for i in range(len(df)):\n",
    "            cc = df.iloc[i]['Counter class']\n",
    "            ed = df.iloc[i]['Epoch duration (s)']\n",
    "            seg = df.iloc[i]['Segmentation']\n",
    "            ws = df.iloc[i]['Window size (s)']\n",
    "            ol = df.iloc[i]['Overlap (%)']\n",
    "            # svm = df.iloc[i]['SVM (kernel_C)']\n",
    "            svm = df.iloc[i]['SVM (kernel_C_gamma)']\n",
    "\n",
    "            key = f\"{cc}_{ed}_{seg}_{ws}_{ol}_{svm}\"\n",
    "            rank = i + 1\n",
    "            acc = df.iloc[i]['Accuracy']\n",
    "\n",
    "            grid_res[dataset][key]['ss_ranks'] = np.append(grid_res[dataset][key]['ss_ranks'], rank)\n",
    "            grid_res[dataset][key]['ss_accs'] = np.append(grid_res[dataset][key]['ss_accs'], acc)\n",
    "\n",
    "    df = cross_subject_results[dataset]\n",
    "    for i in range(len(df)):\n",
    "        cc = df.iloc[i]['Counter class']\n",
    "        ed = df.iloc[i]['Epoch duration (s)']\n",
    "        seg = df.iloc[i]['Segmentation']\n",
    "        ws = df.iloc[i]['Window size (s)']\n",
    "        ol = df.iloc[i]['Overlap (%)']\n",
    "        # svm = df.iloc[i]['SVM (kernel_C)']\n",
    "        svm = df.iloc[i]['SVM (kernel_C_gamma)']\n",
    "\n",
    "        key = f\"{cc}_{ed}_{seg}_{ws}_{ol}_{svm}\"\n",
    "        rank = i + 1\n",
    "        acc = df.iloc[i]['Accuracy']\n",
    "\n",
    "        grid_res[dataset][key]['cs_ranks'] = np.append(grid_res[dataset][key]['cs_ranks'], rank)\n",
    "        grid_res[dataset][key]['cs_accs'] = np.append(grid_res[dataset][key]['cs_accs'], acc)\n",
    "\n",
    "    df = cross_dataset_results[ix]\n",
    "    for i in range(len(df)):\n",
    "        cc = df.iloc[i]['Counter class']\n",
    "        ed = df.iloc[i]['Epoch duration (s)']\n",
    "        seg = df.iloc[i]['Segmentation']\n",
    "        ws = df.iloc[i]['Window size (s)']\n",
    "        ol = df.iloc[i]['Overlap (%)']\n",
    "        # svm = df.iloc[i]['SVM (kernel_C)']\n",
    "        svm = df.iloc[i]['SVM (kernel_C_gamma)']\n",
    "\n",
    "        key = f\"{cc}_{ed}_{seg}_{ws}_{ol}_{svm}\"\n",
    "        rank = i + 1\n",
    "        acc = df.iloc[i]['Accuracy']\n",
    "\n",
    "        grid_res[dataset][key]['cd_ranks'] = np.append(grid_res[dataset][key]['cd_ranks'], rank)\n",
    "        grid_res[dataset][key]['cd_accs'] = np.append(grid_res[dataset][key]['cd_accs'], acc)"
   ]
  },
  {
   "cell_type": "markdown",
   "metadata": {},
   "source": [
    "#### Convert to dataframe with all extracted information"
   ]
  },
  {
   "cell_type": "code",
   "execution_count": 61,
   "metadata": {},
   "outputs": [],
   "source": [
    "# grid_res to df\n",
    "import pandas as pd\n",
    "import pandas as pd\n",
    "\n",
    "df = pd.DataFrame(columns=['Counter class', 'Epoch duration (s)', 'Segmentation', 'Window size (s)', 'Overlap (%)', 'SVM (kernel_C_gamma)', 'Physionet Avg. SS Rank', 'Physionet Avg. SS Acc', 'Physionet Avg. CS Rank', 'Physionet Avg. CS Acc', 'Physionet Avg. CD Rank', 'Physionet Avg. CD Acc', 'Schirrmeister Avg. SS Rank', 'Schirrmeister Avg. SS Acc', 'Schirrmeister Avg. CS Rank', 'Schirrmeister Avg. CS Acc', 'Schirrmeister Avg. CD Rank', 'Schirrmeister Avg. CD Acc', 'Weibo Avg. SS Rank', 'Weibo Avg. SS Acc', 'Weibo Avg. CS Rank', 'Weibo Avg. CS Acc', 'Weibo Avg. CD Rank', 'Weibo Avg. CD Acc'])\n",
    "\n",
    "for key in grid_res['physionet']:\n",
    "    # cc, ed, seg, ws, ol, svm_kernel, svm_C = key.split('_')\n",
    "    cc, ed, seg, ws, ol, svm_kernel, svm_C, svm_gamma = key.split('_')\n",
    "    svm = f\"{svm_kernel}_{svm_C}_{svm_gamma}\"\n",
    "    ss_ranks = grid_res['physionet'][key]['ss_ranks']\n",
    "    ss_accs = grid_res['physionet'][key]['ss_accs']\n",
    "    cs_ranks = grid_res['physionet'][key]['cs_ranks']\n",
    "    cs_accs = grid_res['physionet'][key]['cs_accs']\n",
    "    cd_ranks = grid_res['physionet'][key]['cd_ranks']\n",
    "    cd_accs = grid_res['physionet'][key]['cd_accs']\n",
    "\n",
    "    df = pd.concat([df, pd.DataFrame({'Counter class': cc, 'Epoch duration (s)': ed, 'Segmentation': seg, 'Window size (s)': ws, 'Overlap (%)': ol, 'SVM (kernel_C_gamma)': svm, 'Physionet Avg. SS Rank': np.mean(ss_ranks), 'Physionet Avg. SS Acc': np.mean(ss_accs), 'Physionet Avg. CS Rank': np.mean(cs_ranks), 'Physionet Avg. CS Acc': np.mean(cs_accs), 'Physionet Avg. CD Rank': np.mean(cd_ranks), 'Physionet Avg. CD Acc': np.mean(cd_accs)}, index=[0])], ignore_index=True)\n",
    "\n",
    "for key in grid_res['schirrmeister']:\n",
    "    cc, ed, seg, ws, ol, svm_kernel, svm_C, svm_gamma = key.split('_')\n",
    "    svm = f\"{svm_kernel}_{svm_C}_{svm_gamma}\"\n",
    "    ss_ranks = grid_res['schirrmeister'][key]['ss_ranks']\n",
    "    ss_accs = grid_res['schirrmeister'][key]['ss_accs']\n",
    "    cs_ranks = grid_res['schirrmeister'][key]['cs_ranks']\n",
    "    cs_accs = grid_res['schirrmeister'][key]['cs_accs']\n",
    "    cd_ranks = grid_res['schirrmeister'][key]['cd_ranks']\n",
    "    cd_accs = grid_res['schirrmeister'][key]['cd_accs']\n",
    "\n",
    "    # Locate the row in the df\n",
    "    ix = df[(df['Counter class'] == cc) & (df['Epoch duration (s)'] == ed) & (df['Segmentation'] == seg) & (df['Window size (s)'] == ws) & (df['Overlap (%)'] == ol) & (df['SVM (kernel_C_gamma)'] == svm)].index[0]\n",
    "\n",
    "    df.at[ix, 'Schirrmeister Avg. SS Rank'] = np.mean(ss_ranks)\n",
    "    df.at[ix, 'Schirrmeister Avg. SS Acc'] = np.mean(ss_accs)\n",
    "    df.at[ix, 'Schirrmeister Avg. CS Rank'] = np.mean(cs_ranks)\n",
    "    df.at[ix, 'Schirrmeister Avg. CS Acc'] = np.mean(cs_accs)\n",
    "    df.at[ix, 'Schirrmeister Avg. CD Rank'] = np.mean(cd_ranks)\n",
    "    df.at[ix, 'Schirrmeister Avg. CD Acc'] = np.mean(cd_accs)\n",
    "    \n",
    "for key in grid_res['weibo']:\n",
    "    cc, ed, seg, ws, ol, svm_kernel, svm_C, svm_gamma = key.split('_')\n",
    "    svm = f\"{svm_kernel}_{svm_C}_{svm_gamma}\"\n",
    "    ss_ranks = grid_res['weibo'][key]['ss_ranks']\n",
    "    ss_accs = grid_res['weibo'][key]['ss_accs']\n",
    "    cs_ranks = grid_res['weibo'][key]['cs_ranks']\n",
    "    cs_accs = grid_res['weibo'][key]['cs_accs']\n",
    "    cd_ranks = grid_res['weibo'][key]['cd_ranks']\n",
    "    cd_accs = grid_res['weibo'][key]['cd_accs']\n",
    "\n",
    "    # Locate the row in the df\n",
    "    ix = df[(df['Counter class'] == cc) & (df['Epoch duration (s)'] == ed) & (df['Segmentation'] == seg) & (df['Window size (s)'] == ws) & (df['Overlap (%)'] == ol) & (df['SVM (kernel_C_gamma)'] == svm)].index[0]\n",
    "\n",
    "    df.at[ix, 'Weibo Avg. SS Rank'] = np.mean(ss_ranks)\n",
    "    df.at[ix, 'Weibo Avg. SS Acc'] = np.mean(ss_accs)\n",
    "    df.at[ix, 'Weibo Avg. CS Rank'] = np.mean(cs_ranks)\n",
    "    df.at[ix, 'Weibo Avg. CS Acc'] = np.mean(cs_accs)\n",
    "    df.at[ix, 'Weibo Avg. CD Rank'] = np.mean(cd_ranks)\n",
    "    df.at[ix, 'Weibo Avg. CD Acc'] = np.mean(cd_accs)"
   ]
  },
  {
   "cell_type": "markdown",
   "metadata": {},
   "source": [
    "#### Calculate the mean rank and accuracy for each parameter combination across all datasets"
   ]
  },
  {
   "cell_type": "code",
   "execution_count": 68,
   "metadata": {
    "vscode": {
     "languageId": "ruby"
    }
   },
   "outputs": [],
   "source": [
    "df_copy = df.copy()\n",
    "\n",
    "# Calculate average values\n",
    "df_copy['Avg SS Acc'] = df[['Physionet Avg. SS Acc', 'Schirrmeister Avg. SS Acc', 'Weibo Avg. SS Acc']].mean(axis=1)\n",
    "df_copy['Avg CS Acc'] = df[['Physionet Avg. CS Acc', 'Schirrmeister Avg. CS Acc', 'Weibo Avg. CS Acc']].mean(axis=1)\n",
    "df_copy['Avg CD Acc'] = df[['Physionet Avg. CD Acc', 'Schirrmeister Avg. CD Acc', 'Weibo Avg. CD Acc']].mean(axis=1)\n",
    "df_copy['Avg SS Rank'] = df[['Physionet Avg. SS Rank', 'Schirrmeister Avg. SS Rank', 'Weibo Avg. SS Rank']].mean(axis=1)\n",
    "df_copy['Avg CS Rank'] = df[['Physionet Avg. CS Rank', 'Schirrmeister Avg. CS Rank', 'Weibo Avg. CS Rank']].mean(axis=1)\n",
    "df_copy['Avg CD Rank'] = df[['Physionet Avg. CD Rank', 'Schirrmeister Avg. CD Rank', 'Weibo Avg. CD Rank']].mean(axis=1)\n",
    "\n",
    "# Drop individual values\n",
    "df_copy = df_copy.drop(columns=['Physionet Avg. SS Rank', 'Schirrmeister Avg. SS Rank', 'Weibo Avg. SS Rank',\n",
    "                                'Physionet Avg. SS Acc', 'Schirrmeister Avg. SS Acc', 'Weibo Avg. SS Acc',\n",
    "                                'Physionet Avg. CS Rank', 'Schirrmeister Avg. CS Rank', 'Weibo Avg. CS Rank',\n",
    "                                'Physionet Avg. CS Acc', 'Schirrmeister Avg. CS Acc', 'Weibo Avg. CS Acc',\n",
    "                                'Physionet Avg. CD Rank', 'Schirrmeister Avg. CD Rank', 'Weibo Avg. CD Rank',\n",
    "                                'Physionet Avg. CD Acc', 'Schirrmeister Avg. CD Acc', 'Weibo Avg. CD Acc'])"
   ]
  },
  {
   "cell_type": "markdown",
   "metadata": {},
   "source": [
    "Dataframe ready for comparison and visualization"
   ]
  },
  {
   "cell_type": "code",
   "execution_count": 69,
   "metadata": {
    "vscode": {
     "languageId": "ruby"
    }
   },
   "outputs": [],
   "source": [
    "df_copy.to_csv('results/combined_results.csv', index=False)"
   ]
  }
 ],
 "metadata": {
  "kernelspec": {
   "display_name": "venv",
   "language": "python",
   "name": "python3"
  },
  "language_info": {
   "codemirror_mode": {
    "name": "ipython",
    "version": 3
   },
   "file_extension": ".py",
   "mimetype": "text/x-python",
   "name": "python",
   "nbconvert_exporter": "python",
   "pygments_lexer": "ipython3",
   "version": "3.10.6"
  }
 },
 "nbformat": 4,
 "nbformat_minor": 2
}
